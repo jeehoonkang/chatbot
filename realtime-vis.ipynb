{
 "cells": [
  {
   "cell_type": "markdown",
   "metadata": {},
   "source": [
    "Use Web demo here: https://console.dialogflow.com/api-client/demo/embedded/webeng-chatbot"
   ]
  },
  {
   "cell_type": "code",
   "execution_count": 1,
   "metadata": {
    "scrolled": true
   },
   "outputs": [
    {
     "data": {
      "application/javascript": [
       "\n",
       "window.scroll_flag = true\n",
       "window.scroll_exit = false\n",
       "window.scroll_delay = 100\n",
       "\n",
       "$(\".output_scroll\").each(function() {\n",
       "    $(this)[0].scrollTop = $(this)[0].scrollHeight;\n",
       "    $(this).height(800);\n",
       "});\n",
       "\n",
       "function callScrollToBottom() {\n",
       "    setTimeout(scrollToBottom, window.scroll_delay);\n",
       "}\n",
       "\n",
       "function scrollToBottom() {\n",
       "    if (window.scroll_exit) {\n",
       "        return;\n",
       "    }\n",
       "    if (!window.scroll_flag) {\n",
       "        callScrollToBottom();\n",
       "        return;\n",
       "    };\n",
       "\n",
       "    $(\".output_scroll\").each(function() {\n",
       "        if (!$(this).attr('scroll_checkbox')){\n",
       "            window.scroll_flag = true;\n",
       "            $(this).attr('scroll_checkbox',true);\n",
       "            var div = document.createElement('div');\n",
       "            var checkbox = document.createElement('input');\n",
       "            checkbox.type = \"checkbox\";\n",
       "            checkbox.onclick = function(){window.scroll_flag = checkbox.checked}\n",
       "            checkbox.checked = \"checked\"\n",
       "            div.append(\"Auto-Scroll-To-Bottom: \");\n",
       "            div.append(checkbox);\n",
       "            $(this).parent().before(div);\n",
       "        }\n",
       "\n",
       "        $(this)[0].scrollTop = $(this)[0].scrollHeight;\n",
       "        $(this).height(800);\n",
       "    });\n",
       "    callScrollToBottom();\n",
       "}\n",
       "scrollToBottom();\n"
      ],
      "text/plain": [
       "<IPython.core.display.Javascript object>"
      ]
     },
     "metadata": {},
     "output_type": "display_data"
    }
   ],
   "source": [
    "%%javascript\n",
    "\n",
    "window.scroll_flag = true\n",
    "window.scroll_exit = false\n",
    "window.scroll_delay = 100\n",
    "\n",
    "$(\".output_scroll\").each(function() {\n",
    "    $(this)[0].scrollTop = $(this)[0].scrollHeight;\n",
    "    $(this).height(800);\n",
    "});\n",
    "\n",
    "function callScrollToBottom() {\n",
    "    setTimeout(scrollToBottom, window.scroll_delay);\n",
    "}\n",
    "\n",
    "function scrollToBottom() {\n",
    "    if (window.scroll_exit) {\n",
    "        return;\n",
    "    }\n",
    "    if (!window.scroll_flag) {\n",
    "        callScrollToBottom();\n",
    "        return;\n",
    "    };\n",
    "\n",
    "    $(\".output_scroll\").each(function() {\n",
    "        if (!$(this).attr('scroll_checkbox')){\n",
    "            window.scroll_flag = true;\n",
    "            $(this).attr('scroll_checkbox',true);\n",
    "            var div = document.createElement('div');\n",
    "            var checkbox = document.createElement('input');\n",
    "            checkbox.type = \"checkbox\";\n",
    "            checkbox.onclick = function(){window.scroll_flag = checkbox.checked}\n",
    "            checkbox.checked = \"checked\"\n",
    "            div.append(\"Auto-Scroll-To-Bottom: \");\n",
    "            div.append(checkbox);\n",
    "            $(this).parent().before(div);\n",
    "        }\n",
    "\n",
    "        $(this)[0].scrollTop = $(this)[0].scrollHeight;\n",
    "        $(this).height(800);\n",
    "    });\n",
    "    callScrollToBottom();\n",
    "}\n",
    "scrollToBottom();"
   ]
  },
  {
   "cell_type": "code",
   "execution_count": 2,
   "metadata": {
    "scrolled": true
   },
   "outputs": [],
   "source": [
    "%matplotlib inline\n",
    "\n",
    "from flask import Flask\n",
    "from flask import request, jsonify\n",
    "\n",
    "from datetime import datetime\n",
    "import pickle, copy, random\n",
    "\n",
    "from mashup import *\n",
    "from ont2nl import *\n",
    "from ont2confirm import *\n",
    "import matplotlib.pyplot as plt\n",
    "import networkx as nx\n",
    "\n",
    "app = Flask(__name__)"
   ]
  },
  {
   "cell_type": "code",
   "execution_count": 3,
   "metadata": {
    "scrolled": true
   },
   "outputs": [],
   "source": [
    "mashups = []\n",
    "graph_mashups = []\n",
    "cursor = None\n",
    "paused = False\n",
    "\n",
    "# Count of added commands from last current mashup check\n",
    "feedback_given = 0\n",
    "last_length = 0\n",
    "\n",
    "# Undo check\n",
    "undo_used = False"
   ]
  },
  {
   "cell_type": "code",
   "execution_count": 4,
   "metadata": {
    "scrolled": true
   },
   "outputs": [],
   "source": [
    "@app.route('/', methods=['POST'])\n",
    "def main():\n",
    "    global mashups\n",
    "    global graph_mashups\n",
    "    global cursor\n",
    "    global paused\n",
    "    global feedback_given\n",
    "    global last_length\n",
    "    global undo_used\n",
    "\n",
    "    data = request.get_json()\n",
    "    ret = {}\n",
    "\n",
    "    # check user intent\n",
    "    intent = data['queryResult']['intent']['displayName']\n",
    "    \n",
    "    if intent == 'new_mashup':\n",
    "        if paused:\n",
    "            ret = {\n",
    "                \"fulfillmentText\": \"It seems you haven't finished making a mashup, please resume it.\"\n",
    "            }\n",
    "            outputContexts = data['queryResult']['outputContexts']\n",
    "            \n",
    "            # Reset contexts\n",
    "            for context in outputContexts:\n",
    "                context['lifespanCount'] = 0\n",
    "        \n",
    "            ret['outputContexts'] = outputContexts\n",
    "        \n",
    "        now = int(datetime.now().timestamp())\n",
    "        print('[INFO] New mashup session initiated at ' + str(now))\n",
    "\n",
    "        mashups.append([])\n",
    "        cursor = mashups[-1]\n",
    "        confirm_init()\n",
    "        feedback_given = 0\n",
    "        last_length = 0\n",
    "        undo_used = False\n",
    "    \n",
    "    if intent == 'add_command':\n",
    "        now = int(datetime.now().timestamp())\n",
    "        print('[INFO] Command added at ' + str(now))\n",
    "\n",
    "        cursor.append(data['queryResult']['parameters'])\n",
    "        try:\n",
    "            m = Mashup()\n",
    "            m.init_list(copy.deepcopy(mashups[-1]))\n",
    "            feedback_given += m.graph.number_of_nodes() - last_length\n",
    "            last_length = m.graph.number_of_nodes()\n",
    "\n",
    "            ret['fulfillmentText'] = speak_add_command(m, False if feedback_given > 4 else True)\n",
    "            \n",
    "            plt.figure(figsize=(8,8))\n",
    "            nx.draw_networkx(m.graph)\n",
    "            plt.show()\n",
    "\n",
    "            if feedback_given > 4:\n",
    "                now = int(datetime.now().timestamp())\n",
    "                print('[INFO] Feedback suggested at ' + str(now))\n",
    "\n",
    "                ret[\"outputContexts\"] = [\n",
    "                    {\"name\": \"{}/contexts/add_command-followup\".format(data['session']),\n",
    "                     \"lifespanCount\": 2}\n",
    "                ]\n",
    "                \n",
    "                ret[\"fulfillmentText\"] += \"Great. Before moving on to the next step, would you like to check the current progress of your mashup?\"\n",
    "\n",
    "                feedback_given = 0\n",
    "\n",
    "        except Exception as e:\n",
    "            print('[Error] Failed to instantiate the mashup - ' + str(e))\n",
    "            cursor.pop()\n",
    "            ret = {\n",
    "                \"fulfillmentText\": \"Oops, I failed to process your input. Could you rephrase it?\",\n",
    "            }\n",
    "\n",
    "            return jsonify(ret)\n",
    "\n",
    "    if intent == 'undo_command':\n",
    "        now = int(datetime.now().timestamp())\n",
    "        print('[INFO] Command undone at ' + str(now))\n",
    "\n",
    "        feedback_given += 1\n",
    "        last_length -= 1\n",
    "\n",
    "        try:\n",
    "            cursor.pop()\n",
    "        except IndexError as e:\n",
    "            print('[Error] Failed to pop a command - ' + str(e))\n",
    "            ret['fulfillmentText'] = 'Sorry, you cannot undo when you did not add any commands.'\n",
    "\n",
    "            return jsonify(ret)\n",
    "\n",
    "        if not undo_used:\n",
    "            undo_used = True\n",
    "            ret['fulfillmentText'] = 'Sure, the last command has been undone. Please tell me commands you want to add.'\n",
    "        else:\n",
    "            ret_str = [\n",
    "                'Removing the last action.',\n",
    "                'Undoing the last action.'\n",
    "            ]\n",
    "            ret['fulfillmentText'] = random.choice(ret_str)\n",
    "        \n",
    "        m = Mashup()\n",
    "        m.init_list(copy.deepcopy(mashups[-1]))\n",
    "        plt.figure(figsize=(8,8))\n",
    "        nx.draw_networkx(m.graph)\n",
    "        plt.show()\n",
    "\n",
    "    if intent == 'pause_add_command':\n",
    "        now = int(datetime.now().timestamp())\n",
    "        print('[INFO] Paused at ' + str(now) + ' - ' + str(cursor))\n",
    "        outputContexts = data['queryResult']['outputContexts']\n",
    "        for context in outputContexts:\n",
    "            context['lifespanCount'] = 0\n",
    "        \n",
    "        ret['outputContexts'] = outputContexts\n",
    "        paused = True\n",
    "    \n",
    "    if intent == 'resume_add_command':\n",
    "        now = int(datetime.now().timestamp())\n",
    "        print('[INFO] Resumed at ' + str(now) + ' - ' + str(cursor))\n",
    "        paused = False\n",
    "\n",
    "    if intent == 'finish_add_command':\n",
    "        # Check if the mashup is empty\n",
    "        if len(cursor) == 0:\n",
    "            ret = {\n",
    "                \"fulfillmentText\": \"Umm... Nothing has been added.\",\n",
    "                \"payload\": {\n",
    "                    'google': {'expectUserResponse': False}\n",
    "                }\n",
    "            }\n",
    "\n",
    "            return jsonify(ret)\n",
    "        \n",
    "        if feedback_given > 2:\n",
    "            now = int(datetime.now().timestamp())\n",
    "            print('[INFO] Feedback suggested at ' + str(now))\n",
    "            \n",
    "            outputContexts = data['queryResult']['outputContexts']\n",
    "            for context in outputContexts:\n",
    "                if 'finish_add_command-followup' not in context['name']:\n",
    "                    context['lifespanCount'] = 0\n",
    "            \n",
    "            ret['outputContexts'] = outputContexts\n",
    "            ret[\"fulfillmentText\"] = \"Okay, it's almost ready. Before I deploy your mashup, do you want to check it out?\"\n",
    "\n",
    "            return jsonify(ret)\n",
    "        else:\n",
    "            ret['payload'] = {\n",
    "                'google': {'expectUserResponse': False}\n",
    "            }\n",
    "\n",
    "        now = int(datetime.now().timestamp())\n",
    "        f = open('dump/multi-' + str(now) + '.bin', 'wb+')\n",
    "        pickle.dump(cursor, f)\n",
    "\n",
    "        print('[INFO] New mashup created at ' + str(now) + ' - ' + str(cursor))\n",
    "\n",
    "        f.close()\n",
    "        cursor = None\n",
    "\n",
    "        # Build a mashup from dump file\n",
    "        try:\n",
    "            m = Mashup()\n",
    "            m.init_list(copy.deepcopy(mashups[-1]))\n",
    "\n",
    "            plt.figure(figsize=(8,8))\n",
    "            nx.draw_networkx(m.graph)\n",
    "            plt.savefig('dump/multi-' + str(now) + '.png')\n",
    "            plt.show()\n",
    "            plt.close('all')\n",
    "                    \n",
    "            # If not redundant\n",
    "            graph_mashups.append(m)\n",
    "\n",
    "        except Exception as e:\n",
    "            print('[Error] Failed to instantiate the mashup - ' + str(e))\n",
    "            ret = {\n",
    "                \"fulfillmentText\": \"Sorry, something strange has occurred while processing your input.\",\n",
    "                \"payload\": {\n",
    "                    'google': {'expectUserResponse': False}\n",
    "                }\n",
    "            }\n",
    "\n",
    "            return jsonify(ret)\n",
    "        \n",
    "        # Resetting contexts\n",
    "        outputContexts = data['queryResult']['outputContexts']\n",
    "        for context in outputContexts:\n",
    "            context['lifespanCount'] = 0\n",
    "        \n",
    "        ret['outputContexts'] = outputContexts\n",
    "\n",
    "    if intent == 'finish_add_command - no' or intent == 'finish_add_command - yes - yes':\n",
    "        now = int(datetime.now().timestamp())\n",
    "        f = open('dump/multi-' + str(now) + '.bin', 'wb+')\n",
    "        pickle.dump(cursor, f)\n",
    "\n",
    "        print('[INFO] New mashup created at ' + str(now) + ' - ' + str(cursor))\n",
    "\n",
    "        f.close()\n",
    "        cursor = None\n",
    "\n",
    "        # Build a mashup from dump file\n",
    "        try:\n",
    "            m = Mashup()\n",
    "            m.init_list(copy.deepcopy(mashups[-1]))\n",
    "\n",
    "            plt.figure(figsize=(8, 8))\n",
    "            nx.draw_networkx(m.graph)\n",
    "            plt.savefig('dump/multi-' + str(now) + '.png')\n",
    "            plt.show()\n",
    "            plt.close('all')\n",
    "                    \n",
    "            graph_mashups.append(m)\n",
    "\n",
    "        except Exception as e:\n",
    "            print('[Error] Failed to instantiate the mashup - ' + str(e))\n",
    "            ret = {\n",
    "                \"fulfillmentText\": \"Sorry, something strange has occurred while processing your input.\",\n",
    "                \"payload\": {\n",
    "                    'google': {'expectUserResponse': False}\n",
    "                }\n",
    "            }\n",
    "\n",
    "            return jsonify(ret)\n",
    "        \n",
    "        # Resetting contexts\n",
    "        outputContexts = data['queryResult']['outputContexts']\n",
    "        for context in outputContexts:\n",
    "            context['lifespanCount'] = 0\n",
    "        \n",
    "        ret['outputContexts'] = outputContexts\n",
    "\n",
    "    if intent == 'finish_add_command - yes':\n",
    "        now = int(datetime.now().timestamp())\n",
    "        print('[INFO] Final feedback is provided at ' + str(now))\n",
    "        f = open('dump/multi-' + str(now) + '-cur' + '.bin', 'wb+')\n",
    "        pickle.dump(cursor, f)\n",
    "        f.close()\n",
    "\n",
    "        # Build a mashup from dump file\n",
    "        try:\n",
    "            m = Mashup()\n",
    "            m.init_list(copy.deepcopy(cursor))\n",
    "\n",
    "            ret = {\n",
    "                \"outputContexts\": [\n",
    "                    {\"name\": \"{}/contexts/finish_add_command-yes-followup\".format(data['session']),\n",
    "                     \"lifespanCount\": 2}\n",
    "                ],\n",
    "            }\n",
    "\n",
    "            fulfillmentText = speak_mashup(m) + 'Do you want to deploy your mashup?</speak>'\n",
    "            ret['fulfillmentText'] = fulfillmentText\n",
    "            feedback_given = 0 \n",
    "        except:\n",
    "            print('[Error] Failed to instantiate the mashup - ' + str(e))\n",
    "            ret = {\n",
    "                \"fulfillmentText\": \"Sorry. I got an error while checking the mashup command.\",\n",
    "                \"payload\": {\n",
    "                    'google': {'expectUserResponse': False}\n",
    "                }\n",
    "            }\n",
    "\n",
    "            return jsonify(ret)\n",
    "    \n",
    "    if intent == 'current_mashup' or intent == 'add_command - yes':\n",
    "        now = int(datetime.now().timestamp())\n",
    "        print('[INFO] Current feedback is provided at ' + str(now))\n",
    "\n",
    "        now = int(datetime.now().timestamp())\n",
    "        f = open('dump/multi-' + str(now) + '-cur' + '.bin', 'wb+')\n",
    "        pickle.dump(cursor, f)\n",
    "        f.close()\n",
    "\n",
    "        # Build a mashup from dump file\n",
    "        try:\n",
    "            m = Mashup()\n",
    "            m.init_list(copy.deepcopy(cursor))\n",
    "\n",
    "            fulfillmentText = speak_mashup(m) + \" Tell me if you have more to add, or just say I'm done.</speak>\"\n",
    "\n",
    "            ret['fulfillmentText'] = fulfillmentText\n",
    "            feedback_given = 0\n",
    "\n",
    "        except Exception as e:\n",
    "            print('[Error] Failed to instantiate the mashup - ' + str(e))\n",
    "            ret = {\n",
    "                \"fulfillmentText\": \"Sorry. I got an error while checking the mashup command.\",\n",
    "                \"payload\": {\n",
    "                    'google': {'expectUserResponse': False}\n",
    "                }\n",
    "            }\n",
    "\n",
    "            return jsonify(ret)\n",
    "\n",
    "    \n",
    "    return jsonify(ret)"
   ]
  },
  {
   "cell_type": "code",
   "execution_count": null,
   "metadata": {
    "scrolled": true
   },
   "outputs": [
    {
     "name": "stdout",
     "output_type": "stream",
     "text": [
      " * Serving Flask app \"__main__\" (lazy loading)\n",
      " * Environment: production\n",
      "   WARNING: This is a development server. Do not use it in a production deployment.\n",
      "   Use a production WSGI server instead.\n",
      " * Debug mode: off\n"
     ]
    },
    {
     "name": "stderr",
     "output_type": "stream",
     "text": [
      " * Running on https://0.0.0.0:443/ (Press CTRL+C to quit)\n",
      "66.249.83.11 - - [13/Sep/2020 18:24:20] \"\u001b[37mPOST / HTTP/1.1\u001b[0m\" 200 -\n"
     ]
    },
    {
     "name": "stdout",
     "output_type": "stream",
     "text": [
      "[INFO] New mashup session initiated at 1599989060\n",
      "[INFO] Command added at 1599989070\n",
      "{'action': 'enable', 'number': '', 'object': ['computer'], 'pos_object': 'self', 'pos_action': 'leave', 'position': ['if'], 'any': '', 'time': '', 'params': ['home']}\n"
     ]
    },
    {
     "data": {
      "image/png": "[encoded data removed]",
      "text/plain": [
       "<Figure size 432x288 with 1 Axes>"
      ]
     },
     "metadata": {
      "needs_background": "light"
     },
     "output_type": "display_data"
    },
    {
     "name": "stderr",
     "output_type": "stream",
     "text": [
      "66.249.83.11 - - [13/Sep/2020 18:24:30] \"\u001b[37mPOST / HTTP/1.1\u001b[0m\" 200 -\n"
     ]
    },
    {
     "name": "stdout",
     "output_type": "stream",
     "text": [
      "[INFO] Command added at 1599989075\n",
      "{'action': 'enable', 'number': '', 'object': ['computer'], 'pos_object': 'self', 'pos_action': 'leave', 'position': ['if'], 'any': '', 'time': '', 'params': ['home']}\n",
      "{'action': 'disable', 'number': '', 'object': ['light'], 'pos_object': '', 'time': '', 'params': [], 'any': '', 'pos_action': '', 'position': ['then']}\n"
     ]
    },
    {
     "data": {
      "image/png": "[encoded data removed]",
      "text/plain": [
       "<Figure size 432x288 with 1 Axes>"
      ]
     },
     "metadata": {
      "needs_background": "light"
     },
     "output_type": "display_data"
    },
    {
     "name": "stderr",
     "output_type": "stream",
     "text": [
      "66.249.83.9 - - [13/Sep/2020 18:24:35] \"\u001b[37mPOST / HTTP/1.1\u001b[0m\" 200 -\n"
     ]
    },
    {
     "name": "stdout",
     "output_type": "stream",
     "text": [
      "[INFO] Command undone at 1599989080\n",
      "{'action': 'enable', 'number': '', 'object': ['computer'], 'pos_object': 'self', 'pos_action': 'leave', 'position': ['if'], 'any': '', 'time': '', 'params': ['home']}\n"
     ]
    },
    {
     "data": {
      "image/png": "[encoded data removed]",
      "text/plain": [
       "<Figure size 432x288 with 1 Axes>"
      ]
     },
     "metadata": {
      "needs_background": "light"
     },
     "output_type": "display_data"
    },
    {
     "name": "stderr",
     "output_type": "stream",
     "text": [
      "66.249.83.9 - - [13/Sep/2020 18:24:40] \"\u001b[37mPOST / HTTP/1.1\u001b[0m\" 200 -\n"
     ]
    },
    {
     "name": "stdout",
     "output_type": "stream",
     "text": [
      "[INFO] Command added at 1599989088\n",
      "{'action': 'enable', 'number': '', 'object': ['computer'], 'pos_object': 'self', 'pos_action': 'leave', 'position': ['if'], 'any': '', 'time': '', 'params': ['home']}\n",
      "{'action': 'disable', 'number': '', 'object': ['light'], 'pos_object': '', 'time': '', 'params': [], 'any': '', 'pos_action': '', 'position': []}\n"
     ]
    },
    {
     "data": {
      "image/png": "[encoded data removed]",
      "text/plain": [
       "<Figure size 432x288 with 1 Axes>"
      ]
     },
     "metadata": {
      "needs_background": "light"
     },
     "output_type": "display_data"
    },
    {
     "name": "stderr",
     "output_type": "stream",
     "text": [
      "66.249.83.9 - - [13/Sep/2020 18:24:48] \"\u001b[37mPOST / HTTP/1.1\u001b[0m\" 200 -\n"
     ]
    },
    {
     "name": "stdout",
     "output_type": "stream",
     "text": [
      "[INFO] Feedback suggested at 1599989088\n"
     ]
    },
    {
     "name": "stderr",
     "output_type": "stream",
     "text": [
      "66.249.83.11 - - [13/Sep/2020 18:24:54] \"\u001b[37mPOST / HTTP/1.1\u001b[0m\" 200 -\n"
     ]
    },
    {
     "name": "stdout",
     "output_type": "stream",
     "text": [
      "[INFO] Current feedback is provided at 1599989094\n",
      "{'action': 'enable', 'number': '', 'object': ['computer'], 'pos_object': 'self', 'pos_action': 'leave', 'position': ['if'], 'any': '', 'time': '', 'params': ['home']}\n",
      "{'action': 'disable', 'number': '', 'object': ['light'], 'pos_object': '', 'time': '', 'params': [], 'any': '', 'pos_action': '', 'position': []}\n",
      "[INFO] New mashup created at 1599989100 - [{'pos_object': 'self', 'number': '', 'object': ['computer'], 'action': 'enable', 'pos_action': 'leave', 'params': ['home'], 'any': '', 'time': '', 'position': ['if']}, {'pos_object': '', 'number': '', 'object': ['light'], 'action': 'disable', 'time': '', 'position': [], 'any': '', 'pos_action': '', 'params': []}]\n",
      "{'action': 'enable', 'number': '', 'object': ['computer'], 'pos_object': 'self', 'pos_action': 'leave', 'position': ['if'], 'any': '', 'time': '', 'params': ['home']}\n",
      "{'action': 'disable', 'number': '', 'object': ['light'], 'pos_object': '', 'time': '', 'params': [], 'any': '', 'pos_action': '', 'position': []}\n"
     ]
    },
    {
     "data": {
      "image/png": "[encoded data removed]",
      "text/plain": [
       "<Figure size 432x288 with 1 Axes>"
      ]
     },
     "metadata": {
      "needs_background": "light"
     },
     "output_type": "display_data"
    },
    {
     "name": "stderr",
     "output_type": "stream",
     "text": [
      "66.249.83.9 - - [13/Sep/2020 18:25:00] \"\u001b[37mPOST / HTTP/1.1\u001b[0m\" 200 -\n"
     ]
    }
   ],
   "source": [
    "if __name__ == \"__main__\":\n",
    "    app.run(host='0.0.0.0', port=443, ssl_context=('server.crt', 'server.key'))"
   ]
  },
  {
   "cell_type": "code",
   "execution_count": null,
   "metadata": {},
   "outputs": [],
   "source": []
  }
 ],
 "metadata": {
  "kernelspec": {
   "display_name": "Python 3",
   "language": "python",
   "name": "python3"
  },
  "language_info": {
   "codemirror_mode": {
    "name": "ipython",
    "version": 3
   },
   "file_extension": ".py",
   "mimetype": "text/x-python",
   "name": "python",
   "nbconvert_exporter": "python",
   "pygments_lexer": "ipython3",
   "version": "3.5.2"
  }
 },
 "nbformat": 4,
 "nbformat_minor": 4
}
