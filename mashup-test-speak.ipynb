{
 "cells": [
  {
   "cell_type": "code",
   "execution_count": 4,
   "metadata": {},
   "outputs": [],
   "source": [
    "from mashup import *\n",
    "from ont2nl import *\n",
    "\n",
    "import matplotlib.pyplot as plt\n",
    "import networkx as nx"
   ]
  },
  {
   "cell_type": "code",
   "execution_count": 5,
   "metadata": {},
   "outputs": [
    {
     "name": "stdout",
     "output_type": "stream",
     "text": [
      "{'pos_object': 'self', 'position': ['if'], 'any': '', 'pos_action': 'come', 'object': ['TV', 'light'], 'time': '', 'params': ['room'], 'action': 'enable', 'number': ''}\n",
      "{'pos_object': '', 'position': ['then'], 'any': '', 'pos_action': '', 'object': ['air conditioner'], 'time': '', 'params': [], 'action': 'enable', 'number': ''}\n",
      "{'pos_object': '', 'position': ['last'], 'any': '', 'pos_action': '', 'object': ['window'], 'time': '', 'params': [], 'action': 'close', 'number': ''}\n"
     ]
    }
   ],
   "source": [
    "# Loading dump interaction file\n",
    "m = Mashup(fname='dump/1590471874.bin')"
   ]
  },
  {
   "cell_type": "code",
   "execution_count": 6,
   "metadata": {},
   "outputs": [
    {
     "data": {
      "text/plain": [
       "'If you enter the area. First, the TV will be turned on. Second, the lights will be turned on. Third, the air conditioner will be turned on. Next, the windows will be closed. '"
      ]
     },
     "execution_count": 6,
     "metadata": {},
     "output_type": "execute_result"
    }
   ],
   "source": [
    "speak_mashup(m)"
   ]
  },
  {
   "cell_type": "code",
   "execution_count": null,
   "metadata": {},
   "outputs": [],
   "source": []
  }
 ],
 "metadata": {
  "kernelspec": {
   "display_name": "Python 3",
   "language": "python",
   "name": "python3"
  },
  "language_info": {
   "codemirror_mode": {
    "name": "ipython",
    "version": 3
   },
   "file_extension": ".py",
   "mimetype": "text/x-python",
   "name": "python",
   "nbconvert_exporter": "python",
   "pygments_lexer": "ipython3",
   "version": "3.5.2"
  }
 },
 "nbformat": 4,
 "nbformat_minor": 4
}
